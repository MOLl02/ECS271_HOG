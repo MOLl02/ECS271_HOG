{
 "cells": [
  {
   "cell_type": "code",
   "execution_count": 12,
   "id": "dd29c683-97e1-44cb-b58e-f5d52363e945",
   "metadata": {},
   "outputs": [],
   "source": [
    "import os\n",
    "import numpy as np\n",
    "import matplotlib.pyplot as plt\n",
    "from skimage import io\n",
    "from skimage import color\n",
    "from skimage.transform import resize\n",
    "import math\n",
    "from custom_hog import custom_hog\n",
    "from skimage.feature import hog\n",
    "import random"
   ]
  },
  {
   "cell_type": "code",
   "execution_count": 5,
   "id": "34d3b3f5-77c0-4b3f-8216-8ef40f8e9e87",
   "metadata": {},
   "outputs": [],
   "source": [
    "image_names1 = os.listdir(\"./INRIAPerson/train_64x128_H96/pos/\")\n",
    "image_names2 = os.listdir(\"./INRIAPerson/train_64x128_H96/neg/\")"
   ]
  },
  {
   "cell_type": "code",
   "execution_count": 6,
   "id": "215a306c-1311-4d59-b2fe-18b22935b87b",
   "metadata": {},
   "outputs": [
    {
     "data": {
      "text/plain": [
       "'crop001264a.png'"
      ]
     },
     "execution_count": 6,
     "metadata": {},
     "output_type": "execute_result"
    }
   ],
   "source": [
    "image_names1[0]"
   ]
  },
  {
   "cell_type": "code",
   "execution_count": 7,
   "id": "d7c9a109-69bf-4427-98ad-5b17edf382ff",
   "metadata": {},
   "outputs": [],
   "source": [
    "img = resize(color.rgb2gray(io.imread(\"./INRIAPerson/train_64x128_H96/pos/\"+image_names1[0])[:, :, :3] ), (128, 64))\n",
    "# img = cv2.imread(\"./INRIAPerson/Train/pos/person_and_bike_040.png\")"
   ]
  },
  {
   "cell_type": "code",
   "execution_count": 8,
   "id": "e2b7add3-4a79-4c7b-b4ee-f4c5b3fed825",
   "metadata": {},
   "outputs": [
    {
     "data": {
      "text/plain": [
       "(128, 64)"
      ]
     },
     "execution_count": 8,
     "metadata": {},
     "output_type": "execute_result"
    }
   ],
   "source": [
    "img.shape"
   ]
  },
  {
   "cell_type": "code",
   "execution_count": 13,
   "id": "1b4bf0ff-b7ee-4580-b7b3-2f96937b9332",
   "metadata": {},
   "outputs": [],
   "source": [
    "# extract all images, resize them, add them into numpy array\n",
    "# also make a label vector\n",
    "features = []\n",
    "labels = []\n",
    "# from positive categories\n",
    "for image_name in image_names1:\n",
    "    features.append(resize(color.rgb2gray(io.imread(\"./INRIAPerson/train_64x128_H96/pos/\"+image_name)[:, :, :3] ), (128, 64)))\n",
    "    labels.append(1)\n",
    "for image_name in image_names2:\n",
    "    img = io.imread(\"./INRIAPerson/train_64x128_H96/neg/\"+image_name)\n",
    "    if img.shape[0] >= 128 and img.shape[1] >= 64:\n",
    "        for i in range(10):\n",
    "            x = random.randint(0, img.shape[0] - 128)  # 左上角x坐标\n",
    "            y = random.randint(0, img.shape[1] - 64)  # 左上角y坐标\n",
    "            crop_img = img[x:x + 128, y:y + 64, :]\n",
    "            features.append(color.rgb2gray((crop_img)[:, :, :3]))\n",
    "            labels.append(-1)\n"
   ]
  },
  {
   "cell_type": "code",
   "execution_count": 14,
   "id": "25c5360c-ace4-4cfc-ace6-29510d32039d",
   "metadata": {},
   "outputs": [],
   "source": [
    "features = np.array(features)\n",
    "labels = np.array(labels)"
   ]
  },
  {
   "cell_type": "code",
   "execution_count": 15,
   "id": "7989a1c2-6267-415f-a415-347b93719b4e",
   "metadata": {},
   "outputs": [
    {
     "name": "stdout",
     "output_type": "stream",
     "text": [
      "(14596, 128, 64)\n",
      "(14596,)\n"
     ]
    }
   ],
   "source": [
    "print(features.shape)\n",
    "print(labels.shape)"
   ]
  },
  {
   "cell_type": "code",
   "execution_count": 16,
   "id": "d7b8652a-e1b8-4776-bea3-3e886fb818c0",
   "metadata": {},
   "outputs": [],
   "source": [
    "# split into training and testing set\n",
    "inds = np.random.permutation(features.shape[0])\n",
    "features = features[inds]\n",
    "labels = labels[inds]\n"
   ]
  },
  {
   "cell_type": "code",
   "execution_count": 17,
   "id": "c66be9be-03c0-4703-b1a5-2f19c6243f4c",
   "metadata": {},
   "outputs": [],
   "source": [
    "images_train = features[0:11000,:,:]\n",
    "labels_train = labels[0:11000]\n",
    "images_test = features[11000:,:,:]\n",
    "labels_test = labels[11000:]"
   ]
  },
  {
   "cell_type": "code",
   "execution_count": 18,
   "id": "0895c99b-04dc-473f-ad95-251afafaf20e",
   "metadata": {},
   "outputs": [
    {
     "name": "stdout",
     "output_type": "stream",
     "text": [
      "(11000, 128, 64)\n",
      "(11000,)\n",
      "(3596, 128, 64)\n",
      "(3596,)\n"
     ]
    }
   ],
   "source": [
    "print(images_train.shape)\n",
    "print(labels_train.shape)\n",
    "print(images_test.shape)\n",
    "print(labels_test.shape)"
   ]
  },
  {
   "cell_type": "code",
   "execution_count": 19,
   "id": "731b38ba-a4f4-46f9-874b-d99d7c714451",
   "metadata": {},
   "outputs": [
    {
     "data": {
      "text/plain": [
       "11000"
      ]
     },
     "execution_count": 19,
     "metadata": {},
     "output_type": "execute_result"
    }
   ],
   "source": [
    "images_train.shape[0]"
   ]
  },
  {
   "cell_type": "code",
   "execution_count": 20,
   "id": "abf5a064-7ab8-4c1c-bc1d-0aa999ea7792",
   "metadata": {},
   "outputs": [],
   "source": [
    "# get hog features\n",
    "hog_train = []\n",
    "hog_test = []\n",
    "for i in range(images_train.shape[0]):\n",
    "    hog_train.append(custom_hog(images_train[i]))\n",
    "for i in range(images_test.shape[0]):\n",
    "    hog_test.append(custom_hog(images_test[i]))\n",
    "hog_train = np.array(hog_train)\n",
    "hog_test = np.array(hog_test)"
   ]
  },
  {
   "cell_type": "code",
   "execution_count": 21,
   "id": "1e391b99-ad6e-4a22-bb2d-319c14dab8f7",
   "metadata": {},
   "outputs": [
    {
     "name": "stdout",
     "output_type": "stream",
     "text": [
      "(11000, 3780)\n",
      "(3596, 3780)\n"
     ]
    }
   ],
   "source": [
    "print(hog_train.shape)\n",
    "print(hog_test.shape)"
   ]
  },
  {
   "cell_type": "code",
   "execution_count": 22,
   "id": "49c03d9b-458a-4e1c-8716-ddb7e024202a",
   "metadata": {},
   "outputs": [],
   "source": [
    "# add a column of ones to the hog features\n",
    "ones_train = np.ones((hog_train.shape[0],1))\n",
    "ones_test = np.ones((hog_test.shape[0],1))\n",
    "hog_train = np.append(hog_train, ones_train, axis=1)\n",
    "hog_test = np.append(hog_test, ones_test, axis=1)"
   ]
  },
  {
   "cell_type": "code",
   "execution_count": 23,
   "id": "8c1a3ff5-0a1f-40db-b85c-bc4e1895b767",
   "metadata": {},
   "outputs": [],
   "source": [
    "class svm:\n",
    "    def __init__(self) -> None:\n",
    "        # add one row at the end to be the row of biases\n",
    "        self.w = np.zeros(3781)\n",
    "        self.c = 1.0\n",
    "    \n",
    "    def setC(self, c):\n",
    "        self.c = c\n",
    "        \n",
    "    def objective(self, features, labels, w=np.zeros(2)):\n",
    "        if len(w) != 3781:\n",
    "            w = self.w\n",
    "        term1 = 0.0\n",
    "        term2 = 0.0\n",
    "        # add the square norm of w\n",
    "        for i in range(3781):\n",
    "            term1 += pow(w[i], 2)\n",
    "        term1 /= 2.0\n",
    "        # iterate over all the data rows\n",
    "        for i in range(features.shape[0]):\n",
    "            term2 += max(0, 1.0-labels[i] * np.dot(features[i], w))\n",
    "        term2 *= self.c\n",
    "        return term1 + term2\n",
    "    \n",
    "    def gradient(self, features, labels, w=np.zeros(2)):\n",
    "        if len(w) != 3781:\n",
    "            w = self.w\n",
    "        grad = w.copy()\n",
    "        for i in range(features.shape[0]):\n",
    "            if labels[i] * np.dot(features[i], w) > 1:\n",
    "                # correct prediction, no change for w\n",
    "                continue\n",
    "            else:\n",
    "                grad += self.c * (-labels[i]) * features[i]\n",
    "        return grad\n",
    "    \n",
    "    def fd_validation(self):\n",
    "        # random w, random x and random d * eps\n",
    "        eps = 10e-5\n",
    "        for i in range(5):\n",
    "            x = np.random.normal(1, 3, (20, 3781))\n",
    "            y = np.zeros(20)\n",
    "            for k in range(20):\n",
    "                y[k]= random.choice([-1, 1])\n",
    "            w = np.random.normal(0, 2, 3781)\n",
    "            for j in range(5):\n",
    "                d = np.random.normal(0, 1, 3781)\n",
    "                lhs = np.dot(self.gradient(x, y, w), d)\n",
    "                rhs = (self.objective(x, y, w+eps*d) - self.objective(x, y, w-eps*d)) / (2.0*eps)\n",
    "                print((rhs-lhs)/rhs)\n",
    "    \n",
    "    def train(self, features, labels, alpha=0.001, iters=5):\n",
    "        # gradient descent on w\n",
    "        for i in range(iters):\n",
    "            self.w -= alpha*self.gradient(features, labels)\n",
    "\n",
    "            \n",
    "    def predict(self, feature):\n",
    "        score = np.dot(self.w, feature)\n",
    "        if score > 0:\n",
    "            return 1\n",
    "        else:\n",
    "            return -1\n",
    "    \n",
    "    def test(self, features, labels):\n",
    "        total = features.shape[0]\n",
    "        correct = 0\n",
    "        for i in range(features.shape[0]):\n",
    "            score = self.predict(features[i])\n",
    "            if score == labels[i]:\n",
    "                correct += 1\n",
    "        return round(correct/total, 5)"
   ]
  },
  {
   "cell_type": "code",
   "execution_count": 35,
   "id": "43f37b76-1128-429e-a85b-be7690493b91",
   "metadata": {},
   "outputs": [],
   "source": [
    "model = svm()"
   ]
  },
  {
   "cell_type": "code",
   "execution_count": 50,
   "id": "c6bd42d5-0e70-493b-8cdd-249f64e004e5",
   "metadata": {},
   "outputs": [],
   "source": [
    "num_of_iters = 100\n",
    "iters_list = [i for i in range(num_of_iters)]\n",
    "accs = []\n",
    "for i in range(num_of_iters):\n",
    "    model.train(hog_train, labels_train)\n",
    "    accs.append(model.test(hog_test, labels_test))"
   ]
  },
  {
   "cell_type": "code",
   "execution_count": 51,
   "id": "618068ca-b737-4104-9f1e-c8f71369c454",
   "metadata": {},
   "outputs": [
    {
     "data": {
      "image/png": "[encoded data removed]",
      "text/plain": [
       "<Figure size 640x480 with 1 Axes>"
      ]
     },
     "metadata": {},
     "output_type": "display_data"
    }
   ],
   "source": [
    "plt.title(\"accuracy improvement over training iterations\")\n",
    "plt.xlabel(\"iterations\")\n",
    "plt.ylabel(\"testing accuracy\")\n",
    "plt.plot(iters_list, accs)\n",
    "plt.show()"
   ]
  },
  {
   "cell_type": "code",
   "execution_count": 28,
   "id": "9b197634-f15c-4100-841f-b0daffb64c30",
   "metadata": {},
   "outputs": [
    {
     "name": "stdout",
     "output_type": "stream",
     "text": [
      "0.16657397107897665\n"
     ]
    }
   ],
   "source": [
    "labels_test.shape[0]\n",
    "pos_imgs = 0\n",
    "for i in range(labels_test.shape[0]):\n",
    "    if labels_test[i] == 1:\n",
    "        pos_imgs += 1\n",
    "print(pos_imgs / labels_test.shape[0])"
   ]
  },
  {
   "cell_type": "code",
   "execution_count": 1,
   "id": "74677bf2-0d9b-4553-a038-8987aaec1a53",
   "metadata": {},
   "outputs": [
    {
     "data": {
      "text/plain": [
       "'Train/pos/crop001651.png'"
      ]
     },
     "execution_count": 1,
     "metadata": {},
     "output_type": "execute_result"
    }
   ],
   "source": [
    "'Image filename : \"Train/pos/crop001651.png\"'.split(':')[1].strip().replace('\"', '').strip()"
   ]
  },
  {
   "cell_type": "code",
   "execution_count": null,
   "id": "f5d8fcfd-b5d8-4d34-ba04-ff7473310935",
   "metadata": {},
   "outputs": [],
   "source": []
  }
 ],
 "metadata": {
  "kernelspec": {
   "display_name": "Python 3 (ipykernel)",
   "language": "python",
   "name": "python3"
  },
  "language_info": {
   "codemirror_mode": {
    "name": "ipython",
    "version": 3
   },
   "file_extension": ".py",
   "mimetype": "text/x-python",
   "name": "python",
   "nbconvert_exporter": "python",
   "pygments_lexer": "ipython3",
   "version": "3.11.5"
  }
 },
 "nbformat": 4,
 "nbformat_minor": 5
}
